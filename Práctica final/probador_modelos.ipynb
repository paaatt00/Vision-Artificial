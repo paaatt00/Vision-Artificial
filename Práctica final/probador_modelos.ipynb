{
 "cells": [
  {
   "cell_type": "markdown",
   "id": "d8f560c9",
   "metadata": {},
   "source": [
    "# Probador de modelos"
   ]
  },
  {
   "cell_type": "markdown",
   "id": "9d573870",
   "metadata": {},
   "source": [
    "### Importar librerías"
   ]
  },
  {
   "cell_type": "code",
   "execution_count": 1,
   "id": "2fa86be0",
   "metadata": {},
   "outputs": [],
   "source": [
    "from fastai.vision.all import *\n",
    "from sklearn.metrics import mean_squared_error\n",
    "import os"
   ]
  },
  {
   "cell_type": "markdown",
   "id": "ef6db58e",
   "metadata": {},
   "source": [
    "### Cargar el modelo deseado"
   ]
  },
  {
   "cell_type": "code",
   "execution_count": 46,
   "id": "7f6d7025",
   "metadata": {},
   "outputs": [],
   "source": [
    "# learn = load_learner('/home/patri/Documentos/ASLdetector/modelos2/modelo2.pkl')\n",
    "learn = load_learner('/home/patri/Documentos/ASLdetector/modelo_final.pkl')"
   ]
  },
  {
   "cell_type": "markdown",
   "id": "acb549e6",
   "metadata": {},
   "source": [
    "### Funciones necesarias"
   ]
  },
  {
   "cell_type": "markdown",
   "id": "80104c84",
   "metadata": {},
   "source": [
    "La función `prob_est(predict, n)` calcula la probabilidad de que sea la letra correcta."
   ]
  },
  {
   "cell_type": "code",
   "execution_count": 3,
   "id": "005049e4",
   "metadata": {},
   "outputs": [],
   "source": [
    "def prob_est(predict, n):\n",
    "    '''calcula probabilidad de que sea la letra correcta'''\n",
    "    letter = predict[2][n].item()\n",
    "    tensorSum = 0\n",
    "    for i in range (len(predict[2])):\n",
    "        prediction = predict[2][i].item()\n",
    "        tensorSum = tensorSum + prediction\n",
    "    probLetter = letter/tensorSum\n",
    "#     return int(probLetter*100)\n",
    "    return probLetter"
   ]
  },
  {
   "cell_type": "markdown",
   "id": "f18b9bbb",
   "metadata": {},
   "source": [
    "La función `eval_model()` evalúa el modelo cargado utilizando el error cuadrático medio teniendo en cuenta la probabilidad de que la letra pasada al modelo sea la correcta."
   ]
  },
  {
   "cell_type": "code",
   "execution_count": 40,
   "id": "768f88e7",
   "metadata": {},
   "outputs": [],
   "source": [
    "def eval_model():\n",
    "    '''ECM utilizando la probabilidad de que sea la letra correcta'''\n",
    "    photos = os.listdir('/home/patri/Documentos/ASLdetector/fotos')\n",
    "    photos = sorted(photos)\n",
    "    estProb = []\n",
    "    realProb = []\n",
    "    for i in range (len(photos)):\n",
    "        prediction = learn.predict('/home/patri/Documentos/ASLdetector/fotos' + '/' + photos[i])\n",
    "        a = prob_est(prediction, i)\n",
    "        estProb.append(a)\n",
    "        realProb.append(1)\n",
    "    mse = mean_squared_error(realProb, estProb)\n",
    "    return mse"
   ]
  },
  {
   "cell_type": "code",
   "execution_count": 47,
   "id": "68d68f11",
   "metadata": {},
   "outputs": [
    {
     "data": {
      "text/html": [],
      "text/plain": [
       "<IPython.core.display.HTML object>"
      ]
     },
     "metadata": {},
     "output_type": "display_data"
    },
    {
     "data": {
      "text/html": [],
      "text/plain": [
       "<IPython.core.display.HTML object>"
      ]
     },
     "metadata": {},
     "output_type": "display_data"
    },
    {
     "data": {
      "text/html": [],
      "text/plain": [
       "<IPython.core.display.HTML object>"
      ]
     },
     "metadata": {},
     "output_type": "display_data"
    },
    {
     "data": {
      "text/html": [],
      "text/plain": [
       "<IPython.core.display.HTML object>"
      ]
     },
     "metadata": {},
     "output_type": "display_data"
    },
    {
     "data": {
      "text/html": [],
      "text/plain": [
       "<IPython.core.display.HTML object>"
      ]
     },
     "metadata": {},
     "output_type": "display_data"
    },
    {
     "data": {
      "text/html": [],
      "text/plain": [
       "<IPython.core.display.HTML object>"
      ]
     },
     "metadata": {},
     "output_type": "display_data"
    },
    {
     "data": {
      "text/html": [],
      "text/plain": [
       "<IPython.core.display.HTML object>"
      ]
     },
     "metadata": {},
     "output_type": "display_data"
    },
    {
     "data": {
      "text/html": [],
      "text/plain": [
       "<IPython.core.display.HTML object>"
      ]
     },
     "metadata": {},
     "output_type": "display_data"
    },
    {
     "data": {
      "text/html": [],
      "text/plain": [
       "<IPython.core.display.HTML object>"
      ]
     },
     "metadata": {},
     "output_type": "display_data"
    },
    {
     "data": {
      "text/html": [],
      "text/plain": [
       "<IPython.core.display.HTML object>"
      ]
     },
     "metadata": {},
     "output_type": "display_data"
    },
    {
     "data": {
      "text/html": [],
      "text/plain": [
       "<IPython.core.display.HTML object>"
      ]
     },
     "metadata": {},
     "output_type": "display_data"
    },
    {
     "data": {
      "text/html": [],
      "text/plain": [
       "<IPython.core.display.HTML object>"
      ]
     },
     "metadata": {},
     "output_type": "display_data"
    },
    {
     "data": {
      "text/html": [],
      "text/plain": [
       "<IPython.core.display.HTML object>"
      ]
     },
     "metadata": {},
     "output_type": "display_data"
    },
    {
     "data": {
      "text/html": [],
      "text/plain": [
       "<IPython.core.display.HTML object>"
      ]
     },
     "metadata": {},
     "output_type": "display_data"
    },
    {
     "data": {
      "text/html": [],
      "text/plain": [
       "<IPython.core.display.HTML object>"
      ]
     },
     "metadata": {},
     "output_type": "display_data"
    },
    {
     "data": {
      "text/html": [],
      "text/plain": [
       "<IPython.core.display.HTML object>"
      ]
     },
     "metadata": {},
     "output_type": "display_data"
    },
    {
     "data": {
      "text/html": [],
      "text/plain": [
       "<IPython.core.display.HTML object>"
      ]
     },
     "metadata": {},
     "output_type": "display_data"
    },
    {
     "data": {
      "text/html": [],
      "text/plain": [
       "<IPython.core.display.HTML object>"
      ]
     },
     "metadata": {},
     "output_type": "display_data"
    },
    {
     "data": {
      "text/html": [],
      "text/plain": [
       "<IPython.core.display.HTML object>"
      ]
     },
     "metadata": {},
     "output_type": "display_data"
    },
    {
     "data": {
      "text/html": [],
      "text/plain": [
       "<IPython.core.display.HTML object>"
      ]
     },
     "metadata": {},
     "output_type": "display_data"
    },
    {
     "data": {
      "text/html": [],
      "text/plain": [
       "<IPython.core.display.HTML object>"
      ]
     },
     "metadata": {},
     "output_type": "display_data"
    },
    {
     "data": {
      "text/html": [],
      "text/plain": [
       "<IPython.core.display.HTML object>"
      ]
     },
     "metadata": {},
     "output_type": "display_data"
    },
    {
     "data": {
      "text/html": [],
      "text/plain": [
       "<IPython.core.display.HTML object>"
      ]
     },
     "metadata": {},
     "output_type": "display_data"
    },
    {
     "data": {
      "text/html": [],
      "text/plain": [
       "<IPython.core.display.HTML object>"
      ]
     },
     "metadata": {},
     "output_type": "display_data"
    },
    {
     "data": {
      "text/html": [],
      "text/plain": [
       "<IPython.core.display.HTML object>"
      ]
     },
     "metadata": {},
     "output_type": "display_data"
    },
    {
     "data": {
      "text/html": [],
      "text/plain": [
       "<IPython.core.display.HTML object>"
      ]
     },
     "metadata": {},
     "output_type": "display_data"
    },
    {
     "data": {
      "text/plain": [
       "0.33980684575984965"
      ]
     },
     "execution_count": 47,
     "metadata": {},
     "output_type": "execute_result"
    }
   ],
   "source": [
    "eval_model()"
   ]
  }
 ],
 "metadata": {
  "kernelspec": {
   "display_name": "Python 3 (ipykernel)",
   "language": "python",
   "name": "python3"
  },
  "language_info": {
   "codemirror_mode": {
    "name": "ipython",
    "version": 3
   },
   "file_extension": ".py",
   "mimetype": "text/x-python",
   "name": "python",
   "nbconvert_exporter": "python",
   "pygments_lexer": "ipython3",
   "version": "3.9.9"
  }
 },
 "nbformat": 4,
 "nbformat_minor": 5
}
